{
 "cells": [
  {
   "cell_type": "code",
   "execution_count": 9,
   "id": "66f98ce2-517c-4439-8f0a-bc303c3fb711",
   "metadata": {},
   "outputs": [
    {
     "name": "stdin",
     "output_type": "stream",
     "text": [
      "Enter a num: 123\n"
     ]
    },
    {
     "name": "stdout",
     "output_type": "stream",
     "text": [
      "num is odd\n"
     ]
    }
   ],
   "source": [
    "num=int(input(\"Enter a num:\"))\n",
    "if num%2==0:\n",
    "    print(\"Num is even\")\n",
    "else:\n",
    "    print(\"num is odd\")"
   ]
  },
  {
   "cell_type": "code",
   "execution_count": 3,
   "id": "e8e87db0-0052-450d-afe7-c3cd943e7bbb",
   "metadata": {},
   "outputs": [
    {
     "name": "stdout",
     "output_type": "stream",
     "text": [
      "int64\n",
      "10\n",
      "(2, 5)\n"
     ]
    }
   ],
   "source": [
    "import numpy as np\n",
    "\n",
    "arr=np.array([[1,2,3,4,5],[6,7,8,9,0]])\n",
    "print(arr.dtype)\n",
    "print(arr.size)\n",
    "print(arr.shape)"
   ]
  },
  {
   "cell_type": "code",
   "execution_count": 4,
   "id": "0f5f6653-de83-47c1-aebb-5fcfd975bc1a",
   "metadata": {},
   "outputs": [
    {
     "name": "stdout",
     "output_type": "stream",
     "text": [
      "1\n",
      "2\n",
      "3\n",
      "4\n",
      "5\n"
     ]
    }
   ],
   "source": [
    "arr=np.array([1,2,3,4,5])\n",
    "for x in arr:\n",
    "    print(x)"
   ]
  },
  {
   "cell_type": "code",
   "execution_count": 13,
   "id": "1da0c053-6025-4b9e-bd9b-feeca928d71f",
   "metadata": {},
   "outputs": [
    {
     "name": "stdout",
     "output_type": "stream",
     "text": [
      "[[1 2 3]\n",
      " [4 5 6]]\n"
     ]
    }
   ],
   "source": [
    "arr = np.array([1, 2, 3, 4, 5, 6])\n",
    "reshaped_arr = np.reshape(arr, (2, 3))\n",
    "print(reshaped_arr)\n"
   ]
  },
  {
   "cell_type": "code",
   "execution_count": 20,
   "id": "14ee5082-699b-485c-bf70-76d429d5b951",
   "metadata": {},
   "outputs": [
    {
     "name": "stdout",
     "output_type": "stream",
     "text": [
      "[1 2 3 4 5 6 7 8 9 0]\n"
     ]
    }
   ],
   "source": [
    "import numpy as np\n",
    "arr1=np.array([1,2,3,4,5])\n",
    "arr2=np.array([6,7,8,9,0])\n",
    "newarr=np.concatenate((arr1,arr2))\n",
    "print(newarr)\n"
   ]
  },
  {
   "cell_type": "code",
   "execution_count": 21,
   "id": "7bcca5e0-f368-49da-a84b-218abad8c910",
   "metadata": {},
   "outputs": [
    {
     "name": "stdout",
     "output_type": "stream",
     "text": [
      "[array([1, 2]), array([3, 4]), array([5]), array([6]), array([7]), array([8]), array([9])]\n"
     ]
    }
   ],
   "source": [
    "arr=np.array([1,2,3,4,5,6,7,8,9])\n",
    "newarr=np.array_split(arr,7)\n",
    "print(newarr)"
   ]
  },
  {
   "cell_type": "code",
   "execution_count": 22,
   "id": "fdd401b2-813b-4f58-809b-751c4ed63780",
   "metadata": {},
   "outputs": [
    {
     "name": "stdout",
     "output_type": "stream",
     "text": [
      "(array([3, 6, 9]),)\n"
     ]
    }
   ],
   "source": [
    "arr=np.array([1,3,2,4,5,6,4,3,2,4])\n",
    "x=np.where(arr==4)\n",
    "print(x)"
   ]
  },
  {
   "cell_type": "code",
   "execution_count": 24,
   "id": "4a36b8e4-df61-4b0c-a721-a8b1914f0170",
   "metadata": {},
   "outputs": [
    {
     "name": "stdout",
     "output_type": "stream",
     "text": [
      "[ 1  2  2  3  3  4 32 44 53]\n",
      "[53 44 32  4  3  3  2  2  1]\n"
     ]
    }
   ],
   "source": [
    "arr=np.array([1,2,3,4,53,2,3,44,32])\n",
    "newarr=np.sort(arr)\n",
    "print(newarr)\n",
    "\n",
    "print(np.sort(arr)[::-1])"
   ]
  },
  {
   "cell_type": "code",
   "execution_count": 29,
   "id": "56bc7913-0c4f-4f83-b0bc-f077121cc570",
   "metadata": {},
   "outputs": [
    {
     "name": "stdout",
     "output_type": "stream",
     "text": [
      "[False, True, False, False, True, True, True, True]\n",
      "[[False  True False False  True  True  True  True]]\n"
     ]
    }
   ],
   "source": [
    "#filtering\n",
    "arr=np.array([32,44,21,4,56,54,88,67])\n",
    "fil_arr=[]\n",
    "for element in arr:\n",
    "    if element>42:\n",
    "        fil_arr.append(True)\n",
    "    else:\n",
    "        fil_arr.append(False)\n",
    "newarr=np.array([fil_arr])\n",
    "print(fil_arr)\n",
    "print(newarr)"
   ]
  },
  {
   "cell_type": "code",
   "execution_count": 31,
   "id": "80445884-521e-4b74-807d-b9260c163f2e",
   "metadata": {},
   "outputs": [
    {
     "name": "stdout",
     "output_type": "stream",
     "text": [
      "['23' '44' '32' '23']\n",
      "[23. 44. 32. 23.]\n"
     ]
    }
   ],
   "source": [
    "arr=np.array([23,44,32,23])\n",
    "print(arr.astype(str))\n",
    "print(arr.astype(float))"
   ]
  },
  {
   "cell_type": "code",
   "execution_count": 38,
   "id": "d464c32e-f10f-4d14-a215-9755ddb46c19",
   "metadata": {},
   "outputs": [
    {
     "name": "stdout",
     "output_type": "stream",
     "text": [
      "[ 1  2  3  4  5 50 60]\n",
      "[  1   2   3 100   4   5]\n",
      "[1 2 4 5]\n"
     ]
    }
   ],
   "source": [
    "arr=np.array([1,2,3,4,5])\n",
    "print(np.append(arr,[50,60]))\n",
    "\n",
    "print(np.insert(arr,3,100))\n",
    "\n",
    "print(np.delete(arr,[2]))"
   ]
  },
  {
   "cell_type": "code",
   "execution_count": 39,
   "id": "cbf58c00-8a27-41c4-9d83-eaebd18aa973",
   "metadata": {},
   "outputs": [
    {
     "name": "stdout",
     "output_type": "stream",
     "text": [
      "12\n"
     ]
    }
   ],
   "source": [
    "import statistics as stats\n",
    "a=np.array([12,54,22,77,54,23,76,46,75])\n",
    "\n",
    "print(np.min(a))"
   ]
  }
 ],
 "metadata": {
  "kernelspec": {
   "display_name": "Python 3 (ipykernel)",
   "language": "python",
   "name": "python3"
  },
  "language_info": {
   "codemirror_mode": {
    "name": "ipython",
    "version": 3
   },
   "file_extension": ".py",
   "mimetype": "text/x-python",
   "name": "python",
   "nbconvert_exporter": "python",
   "pygments_lexer": "ipython3",
   "version": "3.13.2"
  }
 },
 "nbformat": 4,
 "nbformat_minor": 5
}
