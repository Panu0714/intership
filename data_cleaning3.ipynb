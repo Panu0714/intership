{
 "cells": [
  {
   "cell_type": "code",
   "execution_count": 74,
   "id": "bc9cfbd6-e905-40d0-b2d6-b74a44cafdd8",
   "metadata": {},
   "outputs": [
    {
     "data": {
      "text/html": [
       "<div>\n",
       "<style scoped>\n",
       "    .dataframe tbody tr th:only-of-type {\n",
       "        vertical-align: middle;\n",
       "    }\n",
       "\n",
       "    .dataframe tbody tr th {\n",
       "        vertical-align: top;\n",
       "    }\n",
       "\n",
       "    .dataframe thead th {\n",
       "        text-align: right;\n",
       "    }\n",
       "</style>\n",
       "<table border=\"1\" class=\"dataframe\">\n",
       "  <thead>\n",
       "    <tr style=\"text-align: right;\">\n",
       "      <th></th>\n",
       "      <th>Name</th>\n",
       "      <th>Age</th>\n",
       "      <th>Gender</th>\n",
       "      <th>Email</th>\n",
       "      <th>Join_Date</th>\n",
       "      <th>Salary</th>\n",
       "      <th>Department</th>\n",
       "    </tr>\n",
       "  </thead>\n",
       "  <tbody>\n",
       "    <tr>\n",
       "      <th>0</th>\n",
       "      <td>Alice</td>\n",
       "      <td>NaN</td>\n",
       "      <td>NaN</td>\n",
       "      <td>user0@example.com</td>\n",
       "      <td>2021-05-21</td>\n",
       "      <td>NaN</td>\n",
       "      <td>Admin</td>\n",
       "    </tr>\n",
       "    <tr>\n",
       "      <th>1</th>\n",
       "      <td>Bob</td>\n",
       "      <td>40</td>\n",
       "      <td>M</td>\n",
       "      <td>user1@example.com</td>\n",
       "      <td>NaN</td>\n",
       "      <td>50000</td>\n",
       "      <td>Engineering</td>\n",
       "    </tr>\n",
       "    <tr>\n",
       "      <th>2</th>\n",
       "      <td>Charlie</td>\n",
       "      <td>unknown</td>\n",
       "      <td>Male</td>\n",
       "      <td>user2@example.com</td>\n",
       "      <td>2020/01/01</td>\n",
       "      <td>50000</td>\n",
       "      <td>HR</td>\n",
       "    </tr>\n",
       "    <tr>\n",
       "      <th>3</th>\n",
       "      <td>David</td>\n",
       "      <td>NaN</td>\n",
       "      <td>NaN</td>\n",
       "      <td>user3@example.com</td>\n",
       "      <td>2021-05-21</td>\n",
       "      <td>70000</td>\n",
       "      <td>Admin</td>\n",
       "    </tr>\n",
       "    <tr>\n",
       "      <th>4</th>\n",
       "      <td>Eva</td>\n",
       "      <td>35</td>\n",
       "      <td>Other</td>\n",
       "      <td>user4@example.com</td>\n",
       "      <td>July 4, 2020</td>\n",
       "      <td>70000</td>\n",
       "      <td>Engineering</td>\n",
       "    </tr>\n",
       "    <tr>\n",
       "      <th>...</th>\n",
       "      <td>...</td>\n",
       "      <td>...</td>\n",
       "      <td>...</td>\n",
       "      <td>...</td>\n",
       "      <td>...</td>\n",
       "      <td>...</td>\n",
       "      <td>...</td>\n",
       "    </tr>\n",
       "    <tr>\n",
       "      <th>100</th>\n",
       "      <td>Alice</td>\n",
       "      <td>NaN</td>\n",
       "      <td>NaN</td>\n",
       "      <td>user0@example.com</td>\n",
       "      <td>2021-05-21</td>\n",
       "      <td>NaN</td>\n",
       "      <td>Admin</td>\n",
       "    </tr>\n",
       "    <tr>\n",
       "      <th>101</th>\n",
       "      <td>Bob</td>\n",
       "      <td>40</td>\n",
       "      <td>M</td>\n",
       "      <td>user1@example.com</td>\n",
       "      <td>NaN</td>\n",
       "      <td>50000</td>\n",
       "      <td>Engineering</td>\n",
       "    </tr>\n",
       "    <tr>\n",
       "      <th>102</th>\n",
       "      <td>Charlie</td>\n",
       "      <td>unknown</td>\n",
       "      <td>Male</td>\n",
       "      <td>user2@example.com</td>\n",
       "      <td>2020/01/01</td>\n",
       "      <td>50000</td>\n",
       "      <td>HR</td>\n",
       "    </tr>\n",
       "    <tr>\n",
       "      <th>103</th>\n",
       "      <td>David</td>\n",
       "      <td>NaN</td>\n",
       "      <td>NaN</td>\n",
       "      <td>user3@example.com</td>\n",
       "      <td>2021-05-21</td>\n",
       "      <td>70000</td>\n",
       "      <td>Admin</td>\n",
       "    </tr>\n",
       "    <tr>\n",
       "      <th>104</th>\n",
       "      <td>Eva</td>\n",
       "      <td>35</td>\n",
       "      <td>Other</td>\n",
       "      <td>user4@example.com</td>\n",
       "      <td>July 4, 2020</td>\n",
       "      <td>70000</td>\n",
       "      <td>Engineering</td>\n",
       "    </tr>\n",
       "  </tbody>\n",
       "</table>\n",
       "<p>105 rows × 7 columns</p>\n",
       "</div>"
      ],
      "text/plain": [
       "        Name      Age Gender              Email     Join_Date Salary  \\\n",
       "0      Alice      NaN    NaN  user0@example.com    2021-05-21    NaN   \n",
       "1        Bob       40      M  user1@example.com           NaN  50000   \n",
       "2    Charlie  unknown   Male  user2@example.com    2020/01/01  50000   \n",
       "3      David      NaN    NaN  user3@example.com    2021-05-21  70000   \n",
       "4        Eva       35  Other  user4@example.com  July 4, 2020  70000   \n",
       "..       ...      ...    ...                ...           ...    ...   \n",
       "100    Alice      NaN    NaN  user0@example.com    2021-05-21    NaN   \n",
       "101      Bob       40      M  user1@example.com           NaN  50000   \n",
       "102  Charlie  unknown   Male  user2@example.com    2020/01/01  50000   \n",
       "103    David      NaN    NaN  user3@example.com    2021-05-21  70000   \n",
       "104      Eva       35  Other  user4@example.com  July 4, 2020  70000   \n",
       "\n",
       "      Department  \n",
       "0          Admin  \n",
       "1    Engineering  \n",
       "2             HR  \n",
       "3          Admin  \n",
       "4    Engineering  \n",
       "..           ...  \n",
       "100        Admin  \n",
       "101  Engineering  \n",
       "102           HR  \n",
       "103        Admin  \n",
       "104  Engineering  \n",
       "\n",
       "[105 rows x 7 columns]"
      ]
     },
     "execution_count": 74,
     "metadata": {},
     "output_type": "execute_result"
    }
   ],
   "source": [
    "import pandas as pd\n",
    "import numpy as np\n",
    "import matplotlib.pyplot as plt\n",
    "import seaborn as sns\n",
    "\n",
    "data=pd.read_csv(\"raw_messy_dataset.csv\")\n",
    "data"
   ]
  },
  {
   "cell_type": "code",
   "execution_count": 75,
   "id": "14eb326f-c975-4071-ba5b-5480040c0a9a",
   "metadata": {},
   "outputs": [
    {
     "name": "stdout",
     "output_type": "stream",
     "text": [
      "<class 'pandas.core.frame.DataFrame'>\n",
      "RangeIndex: 105 entries, 0 to 104\n",
      "Data columns (total 7 columns):\n",
      " #   Column      Non-Null Count  Dtype \n",
      "---  ------      --------------  ----- \n",
      " 0   Name        105 non-null    object\n",
      " 1   Age         72 non-null     object\n",
      " 2   Gender      89 non-null     object\n",
      " 3   Email       95 non-null     object\n",
      " 4   Join_Date   70 non-null     object\n",
      " 5   Salary      78 non-null     object\n",
      " 6   Department  89 non-null     object\n",
      "dtypes: object(7)\n",
      "memory usage: 5.9+ KB\n"
     ]
    }
   ],
   "source": [
    "data.head()\n",
    "#data.tail()\n",
    "data.info()"
   ]
  },
  {
   "cell_type": "code",
   "execution_count": 76,
   "id": "b1595103-d798-4f20-86cc-dd38a508fefc",
   "metadata": {},
   "outputs": [
    {
     "name": "stdout",
     "output_type": "stream",
     "text": [
      "        Name      Age Gender              Email     Join_Date Salary  \\\n",
      "0      Alice      NaN    NaN  user0@example.com    2021-05-21    NaN   \n",
      "1        Bob       40      M  user1@example.com           NaN  50000   \n",
      "2    Charlie  unknown   Male  user2@example.com    2020/01/01  50000   \n",
      "3      David      NaN    NaN  user3@example.com    2021-05-21  70000   \n",
      "4        Eva       35  Other  user4@example.com  July 4, 2020  70000   \n",
      "..       ...      ...    ...                ...           ...    ...   \n",
      "100    Alice      NaN    NaN  user0@example.com    2021-05-21    NaN   \n",
      "101      Bob       40      M  user1@example.com           NaN  50000   \n",
      "102  Charlie  unknown   Male  user2@example.com    2020/01/01  50000   \n",
      "103    David      NaN    NaN  user3@example.com    2021-05-21  70000   \n",
      "104      Eva       35  Other  user4@example.com  July 4, 2020  70000   \n",
      "\n",
      "      Department  \n",
      "0          Admin  \n",
      "1    Engineering  \n",
      "2             HR  \n",
      "3          Admin  \n",
      "4    Engineering  \n",
      "..           ...  \n",
      "100        Admin  \n",
      "101  Engineering  \n",
      "102           HR  \n",
      "103        Admin  \n",
      "104  Engineering  \n",
      "\n",
      "[105 rows x 7 columns]\n",
      "<class 'pandas.core.frame.DataFrame'>\n",
      "RangeIndex: 105 entries, 0 to 104\n",
      "Data columns (total 7 columns):\n",
      " #   Column      Non-Null Count  Dtype \n",
      "---  ------      --------------  ----- \n",
      " 0   Name        105 non-null    object\n",
      " 1   Age         72 non-null     object\n",
      " 2   Gender      89 non-null     object\n",
      " 3   Email       95 non-null     object\n",
      " 4   Join_Date   70 non-null     object\n",
      " 5   Salary      78 non-null     object\n",
      " 6   Department  89 non-null     object\n",
      "dtypes: object(7)\n",
      "memory usage: 5.9+ KB\n"
     ]
    },
    {
     "data": {
      "text/html": [
       "<div>\n",
       "<style scoped>\n",
       "    .dataframe tbody tr th:only-of-type {\n",
       "        vertical-align: middle;\n",
       "    }\n",
       "\n",
       "    .dataframe tbody tr th {\n",
       "        vertical-align: top;\n",
       "    }\n",
       "\n",
       "    .dataframe thead th {\n",
       "        text-align: right;\n",
       "    }\n",
       "</style>\n",
       "<table border=\"1\" class=\"dataframe\">\n",
       "  <thead>\n",
       "    <tr style=\"text-align: right;\">\n",
       "      <th></th>\n",
       "      <th>Name</th>\n",
       "      <th>Age</th>\n",
       "      <th>Gender</th>\n",
       "      <th>Email</th>\n",
       "      <th>Join_Date</th>\n",
       "      <th>Salary</th>\n",
       "      <th>Department</th>\n",
       "    </tr>\n",
       "  </thead>\n",
       "  <tbody>\n",
       "    <tr>\n",
       "      <th>count</th>\n",
       "      <td>105</td>\n",
       "      <td>72</td>\n",
       "      <td>89</td>\n",
       "      <td>95</td>\n",
       "      <td>70</td>\n",
       "      <td>78</td>\n",
       "      <td>89</td>\n",
       "    </tr>\n",
       "    <tr>\n",
       "      <th>unique</th>\n",
       "      <td>10</td>\n",
       "      <td>5</td>\n",
       "      <td>5</td>\n",
       "      <td>90</td>\n",
       "      <td>4</td>\n",
       "      <td>5</td>\n",
       "      <td>5</td>\n",
       "    </tr>\n",
       "    <tr>\n",
       "      <th>top</th>\n",
       "      <td>Alice</td>\n",
       "      <td>40</td>\n",
       "      <td>Male</td>\n",
       "      <td>user0@example.com</td>\n",
       "      <td>2021-05-21</td>\n",
       "      <td>50000</td>\n",
       "      <td>Engineering</td>\n",
       "    </tr>\n",
       "    <tr>\n",
       "      <th>freq</th>\n",
       "      <td>11</td>\n",
       "      <td>22</td>\n",
       "      <td>22</td>\n",
       "      <td>2</td>\n",
       "      <td>26</td>\n",
       "      <td>22</td>\n",
       "      <td>26</td>\n",
       "    </tr>\n",
       "  </tbody>\n",
       "</table>\n",
       "</div>"
      ],
      "text/plain": [
       "         Name Age Gender              Email   Join_Date Salary   Department\n",
       "count     105  72     89                 95          70     78           89\n",
       "unique     10   5      5                 90           4      5            5\n",
       "top     Alice  40   Male  user0@example.com  2021-05-21  50000  Engineering\n",
       "freq       11  22     22                  2          26     22           26"
      ]
     },
     "execution_count": 76,
     "metadata": {},
     "output_type": "execute_result"
    }
   ],
   "source": [
    "#data.dropna(inplace=True)\n",
    "print(data)\n",
    "data.info()\n",
    "data.describe()"
   ]
  },
  {
   "cell_type": "code",
   "execution_count": 77,
   "id": "7872e51c-795e-49c7-a949-e333154446be",
   "metadata": {},
   "outputs": [
    {
     "data": {
      "text/plain": [
       "np.int64(5)"
      ]
     },
     "execution_count": 77,
     "metadata": {},
     "output_type": "execute_result"
    }
   ],
   "source": [
    "#duplicates removing\n",
    "data.duplicated().sum()\n"
   ]
  },
  {
   "cell_type": "code",
   "execution_count": 78,
   "id": "ae036d78-5839-49c1-abce-6274833a9679",
   "metadata": {},
   "outputs": [
    {
     "data": {
      "text/plain": [
       "np.int64(0)"
      ]
     },
     "execution_count": 78,
     "metadata": {},
     "output_type": "execute_result"
    }
   ],
   "source": [
    "data.drop_duplicates(inplace=True)\n",
    "data.duplicated().sum()"
   ]
  },
  {
   "cell_type": "code",
   "execution_count": 79,
   "id": "c259f328-84bc-47bf-a694-7967d96daf5b",
   "metadata": {},
   "outputs": [
    {
     "data": {
      "text/plain": [
       "Index(['Name', 'Age', 'Gender', 'Email', 'Join_Date', 'Salary', 'Department'], dtype='object')"
      ]
     },
     "execution_count": 79,
     "metadata": {},
     "output_type": "execute_result"
    }
   ],
   "source": [
    "\n",
    "data.columns"
   ]
  },
  {
   "cell_type": "code",
   "execution_count": 80,
   "id": "7f0a774e-ae9e-4b5d-a91d-4b85b6204e95",
   "metadata": {},
   "outputs": [
    {
     "name": "stdout",
     "output_type": "stream",
     "text": [
      "<class 'pandas.core.frame.DataFrame'>\n",
      "Index: 100 entries, 0 to 99\n",
      "Data columns (total 7 columns):\n",
      " #   Column      Non-Null Count  Dtype  \n",
      "---  ------      --------------  -----  \n",
      " 0   Name        100 non-null    object \n",
      " 1   Age         57 non-null     float64\n",
      " 2   Gender      86 non-null     object \n",
      " 3   Email       90 non-null     object \n",
      " 4   Join_Date   66 non-null     object \n",
      " 5   Salary      74 non-null     object \n",
      " 6   Department  84 non-null     object \n",
      "dtypes: float64(1), object(6)\n",
      "memory usage: 6.2+ KB\n"
     ]
    }
   ],
   "source": [
    "#handling age\n",
    "data[\"Age\"]=pd.to_numeric(data[\"Age\"],errors='coerce')\n",
    "data.info()"
   ]
  },
  {
   "cell_type": "code",
   "execution_count": 81,
   "id": "7a54d9c3-0c11-4ce9-a0ad-5c9b0aad2eae",
   "metadata": {},
   "outputs": [
    {
     "name": "stderr",
     "output_type": "stream",
     "text": [
      "C:\\Users\\buras\\AppData\\Local\\Temp\\ipykernel_29488\\3877753407.py:2: FutureWarning: A value is trying to be set on a copy of a DataFrame or Series through chained assignment using an inplace method.\n",
      "The behavior will change in pandas 3.0. This inplace method will never work because the intermediate object on which we are setting values always behaves as a copy.\n",
      "\n",
      "For example, when doing 'df[col].method(value, inplace=True)', try using 'df.method({col: value}, inplace=True)' or df[col] = df[col].method(value) instead, to perform the operation inplace on the original object.\n",
      "\n",
      "\n",
      "  data[\"Age\"].fillna(x,inplace=True)\n"
     ]
    },
    {
     "data": {
      "text/plain": [
       "array([35., 40., 30., 25.])"
      ]
     },
     "execution_count": 81,
     "metadata": {},
     "output_type": "execute_result"
    }
   ],
   "source": [
    "x=data[\"Age\"].median()\n",
    "data[\"Age\"].fillna(x,inplace=True)\n",
    "data[\"Age\"].unique()"
   ]
  },
  {
   "cell_type": "code",
   "execution_count": 82,
   "id": "988d2c54-b018-4244-96c6-3a89dec49d29",
   "metadata": {},
   "outputs": [
    {
     "data": {
      "text/plain": [
       "array([nan, 'M', 'Male', 'Other', 'Female', 'F'], dtype=object)"
      ]
     },
     "execution_count": 82,
     "metadata": {},
     "output_type": "execute_result"
    }
   ],
   "source": [
    "data[\"Gender\"].unique()"
   ]
  },
  {
   "cell_type": "code",
   "execution_count": 83,
   "id": "d22cc0b2-3a0f-4e99-bf1d-a311874210f2",
   "metadata": {},
   "outputs": [],
   "source": [
    "#data[\"Gender\"]=pd.replace({\n",
    " #   \"M\":\"Male\",\"F\":\"Female\",\"\":\"None\"\n",
    "#})"
   ]
  },
  {
   "cell_type": "code",
   "execution_count": 84,
   "id": "b5ca33f4-2fbd-4525-bee0-03099e9a290a",
   "metadata": {},
   "outputs": [
    {
     "data": {
      "text/plain": [
       "array([nan, 'Male', 'Other', 'Female'], dtype=object)"
      ]
     },
     "execution_count": 84,
     "metadata": {},
     "output_type": "execute_result"
    }
   ],
   "source": [
    "data[\"Gender\"]=data[\"Gender\"].replace({\n",
    "    \"M\":\"Male\",\"F\":\"Female\",\"\":\"None\"\n",
    "})\n",
    "data[\"Gender\"].unique()"
   ]
  },
  {
   "cell_type": "code",
   "execution_count": 85,
   "id": "b005be7c-4b07-429e-9131-f64e9f444f8e",
   "metadata": {},
   "outputs": [
    {
     "name": "stdout",
     "output_type": "stream",
     "text": [
      "       Name   Age  Gender               Email     Join_Date   Salary   Department\n",
      "0     Alice  35.0     NaN   user0@example.com    2021-05-21      NaN        Admin\n",
      "1       Bob  40.0    Male   user1@example.com           NaN    50000  Engineering\n",
      "2   Charlie  35.0    Male   user2@example.com    2020/01/01    50000           HR\n",
      "3     David  35.0     NaN   user3@example.com    2021-05-21    70000        Admin\n",
      "4       Eva  35.0   Other   user4@example.com  July 4, 2020    70000  Engineering\n",
      "5     Frank  35.0   Other   user5@example.com           NaN    70000        Admin\n",
      "6     Grace  35.0  Female   user6@example.com  July 4, 2020    80000  Engineering\n",
      "7    Hannah  35.0   Other   user7@example.com    2021-05-21      NaN           HR\n",
      "8       Ivy  30.0  Female   user8@example.com           NaN    50000  Engineering\n",
      "9      Jack  35.0    Male   user9@example.com    2020/01/01    80000  Engineering\n",
      "10    Alice  35.0    Male  user10@example.com    2021-05-21    70000  Engineering\n",
      "11      Bob  35.0    Male  user11@example.com  July 4, 2020    50000        Sales\n",
      "12  Charlie  35.0    Male  user12@example.com    22-06-2022    80000        Sales\n",
      "13    David  35.0   Other  user13@example.com           NaN      NaN        Sales\n",
      "14      Eva  40.0    Male  user14@example.com  July 4, 2020    80000           HR\n",
      "15    Frank  35.0   Other  user15@example.com           NaN      NaN        Admin\n",
      "16    Grace  35.0   Other  user16@example.com    2021-05-21    70000          NaN\n",
      "17   Hannah  35.0    Male  user17@example.com           NaN      NaN  Engineering\n",
      "18      Ivy  30.0    Male  user18@example.com    2021-05-21    50000  Engineering\n",
      "19     Jack  40.0    Male  user19@example.com           NaN    70000           HR\n",
      "20    Alice  35.0    Male  user20@example.com    2021-05-21    50000  Engineering\n",
      "21      Bob  35.0    Male  user21@example.com    22-06-2022  unknown        Sales\n",
      "22  Charlie  30.0  Female  user22@example.com           NaN    60000          NaN\n",
      "23    David  40.0  Female  user23@example.com           NaN      NaN    Marketing\n",
      "24      Eva  35.0    Male  user24@example.com           NaN    60000  Engineering\n",
      "25    Frank  25.0  Female  user25@example.com    22-06-2022    60000        Sales\n",
      "26    Grace  40.0  Female  user26@example.com  July 4, 2020      NaN    Marketing\n",
      "27   Hannah  30.0    Male  user27@example.com    2021-05-21    70000          NaN\n",
      "28      Ivy  35.0  Female  user28@example.com    2020/01/01  unknown    Marketing\n",
      "29     Jack  35.0   Other  user29@example.com    2021-05-21    50000        Sales\n",
      "30    Alice  40.0  Female  user30@example.com    2021-05-21    80000        Admin\n",
      "31      Bob  25.0  Female  user31@example.com  July 4, 2020    50000        Admin\n",
      "32  Charlie  25.0    Male  user32@example.com    2021-05-21    80000    Marketing\n",
      "33    David  35.0    Male  user33@example.com    22-06-2022    50000           HR\n",
      "34      Eva  35.0    Male  user34@example.com    22-06-2022      NaN    Marketing\n",
      "35    Frank  35.0    Male  user35@example.com           NaN  unknown  Engineering\n",
      "36    Grace  30.0  Female  user36@example.com           NaN    80000  Engineering\n",
      "37   Hannah  40.0    Male  user37@example.com    2020/01/01      NaN        Admin\n",
      "38      Ivy  40.0     NaN  user38@example.com    2021-05-21    70000           HR\n",
      "39     Jack  35.0   Other  user39@example.com    2021-05-21    50000        Sales\n",
      "40    Alice  35.0  Female  user40@example.com  July 4, 2020    50000  Engineering\n",
      "41      Bob  35.0    Male  user41@example.com           NaN    80000        Admin\n",
      "42  Charlie  35.0     NaN  user42@example.com    22-06-2022    70000          NaN\n",
      "43    David  35.0  Female  user43@example.com    2020/01/01    70000        Admin\n",
      "44      Eva  35.0  Female  user44@example.com           NaN      NaN  Engineering\n",
      "45    Frank  40.0    Male  user45@example.com    22-06-2022      NaN  Engineering\n",
      "46    Grace  35.0  Female  user46@example.com           NaN      NaN        Admin\n",
      "47   Hannah  40.0   Other  user47@example.com           NaN      NaN        Sales\n",
      "48      Ivy  25.0     NaN  user48@example.com  July 4, 2020      NaN    Marketing\n",
      "49     Jack  35.0  Female  user49@example.com  July 4, 2020      NaN  Engineering\n",
      "50    Alice  35.0    Male  user50@example.com    2021-05-21      NaN        Admin\n",
      "51      Bob  35.0   Other  user51@example.com           NaN  unknown        Admin\n",
      "52  Charlie  35.0  Female  user52@example.com    2020/01/01    70000           HR\n",
      "53    David  35.0     NaN  user53@example.com           NaN      NaN    Marketing\n",
      "54      Eva  25.0  Female  user54@example.com    22-06-2022    70000          NaN\n",
      "55    Frank  35.0    Male  user55@example.com           NaN    70000        Sales\n",
      "56    Grace  30.0  Female  user56@example.com           NaN    60000          NaN\n",
      "57   Hannah  40.0  Female  user57@example.com  July 4, 2020  unknown    Marketing\n",
      "58      Ivy  25.0    Male  user58@example.com    2021-05-21      NaN    Marketing\n",
      "59     Jack  40.0   Other  user59@example.com    2021-05-21    50000    Marketing\n",
      "60    Alice  35.0  Female  user60@example.com           NaN    80000          NaN\n",
      "61      Bob  30.0    Male  user61@example.com  July 4, 2020      NaN    Marketing\n",
      "62  Charlie  30.0    Male  user62@example.com           NaN    50000        Admin\n",
      "63    David  25.0   Other  user63@example.com    2020/01/01  unknown          NaN\n",
      "64      Eva  30.0    Male  user64@example.com  July 4, 2020    80000    Marketing\n",
      "65    Frank  35.0     NaN  user65@example.com           NaN  unknown        Admin\n",
      "66    Grace  30.0   Other  user66@example.com           NaN    70000           HR\n",
      "67   Hannah  40.0   Other  user67@example.com  July 4, 2020    80000    Marketing\n",
      "68      Ivy  40.0  Female  user68@example.com           NaN    70000          NaN\n",
      "69     Jack  35.0   Other  user69@example.com  July 4, 2020    50000  Engineering\n",
      "70    Alice  40.0    Male  user70@example.com    22-06-2022    50000    Marketing\n",
      "71      Bob  35.0   Other  user71@example.com  July 4, 2020    80000  Engineering\n",
      "72  Charlie  40.0  Female  user72@example.com  July 4, 2020    80000        Admin\n",
      "73    David  35.0  Female  user73@example.com           NaN      NaN           HR\n",
      "74      Eva  35.0     NaN  user74@example.com           NaN  unknown        Sales\n",
      "75    Frank  35.0    Male  user75@example.com    2021-05-21      NaN           HR\n",
      "76    Grace  35.0  Female  user76@example.com    2021-05-21  unknown    Marketing\n",
      "77   Hannah  25.0  Female  user77@example.com    22-06-2022      NaN  Engineering\n",
      "78      Ivy  40.0   Other  user78@example.com    2021-05-21    70000  Engineering\n",
      "79     Jack  30.0     NaN  user79@example.com  July 4, 2020    80000          NaN\n",
      "80    Alice  40.0    Male  user80@example.com           NaN    50000  Engineering\n",
      "81      Bob  30.0   Other  user81@example.com    2021-05-21  unknown          NaN\n",
      "82  Charlie  35.0     NaN  user82@example.com    2021-05-21  unknown        Admin\n",
      "83    David  35.0    Male  user83@example.com    22-06-2022    50000        Sales\n",
      "84      Eva  35.0    Male  user84@example.com           NaN      NaN    Marketing\n",
      "85    Frank  30.0    Male  user85@example.com    22-06-2022  unknown          NaN\n",
      "86    Grace  40.0    Male  user86@example.com  July 4, 2020      NaN        Sales\n",
      "87   Hannah  35.0    Male  user87@example.com           NaN    70000  Engineering\n",
      "88      Ivy  35.0     NaN  user88@example.com    22-06-2022    80000  Engineering\n",
      "89     Jack  35.0     NaN  user89@example.com    2021-05-21    50000        Sales\n",
      "90    Alice  30.0  Female                   -           NaN    80000  Engineering\n",
      "91      Bob  30.0  Female                   -           NaN      NaN        Admin\n",
      "92  Charlie  40.0    Male                   -    2021-05-21  unknown        Admin\n",
      "93    David  30.0    Male                   -    22-06-2022  unknown        Sales\n",
      "94      Eva  30.0     NaN                   -    2021-05-21      NaN          NaN\n",
      "95    Frank  35.0    Male                   -           NaN    50000          NaN\n",
      "96    Grace  40.0    Male                   -           NaN    70000        Sales\n",
      "97   Hannah  35.0    Male                   -    2020/01/01    60000          NaN\n",
      "98      Ivy  35.0  Female                   -    2020/01/01    50000          NaN\n",
      "99     Jack  35.0     NaN                   -  July 4, 2020    60000        Admin\n"
     ]
    },
    {
     "name": "stderr",
     "output_type": "stream",
     "text": [
      "C:\\Users\\buras\\AppData\\Local\\Temp\\ipykernel_29488\\2740383508.py:2: FutureWarning: A value is trying to be set on a copy of a DataFrame or Series through chained assignment using an inplace method.\n",
      "The behavior will change in pandas 3.0. This inplace method will never work because the intermediate object on which we are setting values always behaves as a copy.\n",
      "\n",
      "For example, when doing 'df[col].method(value, inplace=True)', try using 'df.method({col: value}, inplace=True)' or df[col] = df[col].method(value) instead, to perform the operation inplace on the original object.\n",
      "\n",
      "\n",
      "  data[\"Email\"].fillna(\"-\",inplace=True)\n"
     ]
    }
   ],
   "source": [
    "#Handling Emails\n",
    "data[\"Email\"].fillna(\"-\",inplace=True)\n",
    "print(data.to_string())"
   ]
  },
  {
   "cell_type": "code",
   "execution_count": 88,
   "id": "d3d53e37-23c7-4e9a-a1db-7554fe4bce89",
   "metadata": {},
   "outputs": [
    {
     "ename": "AttributeError",
     "evalue": "module 'pandas' has no attribute 'to_datatime'",
     "output_type": "error",
     "traceback": [
      "\u001b[31m---------------------------------------------------------------------------\u001b[39m",
      "\u001b[31mAttributeError\u001b[39m                            Traceback (most recent call last)",
      "\u001b[36mCell\u001b[39m\u001b[36m \u001b[39m\u001b[32mIn[88]\u001b[39m\u001b[32m, line 2\u001b[39m\n\u001b[32m      1\u001b[39m \u001b[38;5;66;03m#data time change\u001b[39;00m\n\u001b[32m----> \u001b[39m\u001b[32m2\u001b[39m data[\u001b[33m\"\u001b[39m\u001b[33mJoin_Data\u001b[39m\u001b[33m\"\u001b[39m]=\u001b[43mpd\u001b[49m\u001b[43m.\u001b[49m\u001b[43mto_datatime\u001b[49m(data[\u001b[33m\"\u001b[39m\u001b[33mJoin_Date\u001b[39m\u001b[33m\"\u001b[39m],errors=\u001b[33m\"\u001b[39m\u001b[33mcoerce\u001b[39m\u001b[33m\"\u001b[39m)\n",
      "\u001b[31mAttributeError\u001b[39m: module 'pandas' has no attribute 'to_datatime'"
     ]
    }
   ],
   "source": [
    "\n",
    "#data time change\n",
    "data[\"Join_Data\"]=pd.to_datatime(data[\"Join_Date\"],errors=\"coerce\")"
   ]
  },
  {
   "cell_type": "code",
   "execution_count": 91,
   "id": "7c552f2a-635d-4622-b610-f7843c5967fa",
   "metadata": {},
   "outputs": [
    {
     "name": "stdout",
     "output_type": "stream",
     "text": [
      "<class 'pandas.core.frame.DataFrame'>\n",
      "Index: 100 entries, 0 to 99\n",
      "Data columns (total 7 columns):\n",
      " #   Column      Non-Null Count  Dtype  \n",
      "---  ------      --------------  -----  \n",
      " 0   Name        100 non-null    object \n",
      " 1   Age         100 non-null    float64\n",
      " 2   Gender      86 non-null     object \n",
      " 3   Email       100 non-null    object \n",
      " 4   Join_Date   66 non-null     object \n",
      " 5   Salary      60 non-null     float64\n",
      " 6   Department  84 non-null     object \n",
      "dtypes: float64(2), object(5)\n",
      "memory usage: 6.2+ KB\n"
     ]
    }
   ],
   "source": [
    "data[\"Salary\"]=pd.to_numeric(data[\"Salary\"],errors=\"coerce\")\n",
    "data.info()"
   ]
  },
  {
   "cell_type": "code",
   "execution_count": 98,
   "id": "113350c2-6bb3-4d1b-be64-f5cd982fcadd",
   "metadata": {},
   "outputs": [
    {
     "data": {
      "text/plain": [
       "array(['Admin', 'Engineering', 'HR', 'Sales', 'Marketing'], dtype=object)"
      ]
     },
     "execution_count": 98,
     "metadata": {},
     "output_type": "execute_result"
    }
   ],
   "source": [
    "y=data[\"Department\"].mode()[0]\n",
    "data[\"Department\"].fillna(y,inplace=True)\n",
    "data[\"Department\"].unique()"
   ]
  },
  {
   "cell_type": "code",
   "execution_count": 99,
   "id": "abe89ee1-8aaa-4545-9b89-1551f4a391c1",
   "metadata": {},
   "outputs": [],
   "source": [
    "data.to_csv(\"cleaned_csv\")"
   ]
  }
 ],
 "metadata": {
  "kernelspec": {
   "display_name": "Python 3 (ipykernel)",
   "language": "python",
   "name": "python3"
  },
  "language_info": {
   "codemirror_mode": {
    "name": "ipython",
    "version": 3
   },
   "file_extension": ".py",
   "mimetype": "text/x-python",
   "name": "python",
   "nbconvert_exporter": "python",
   "pygments_lexer": "ipython3",
   "version": "3.13.2"
  }
 },
 "nbformat": 4,
 "nbformat_minor": 5
}
